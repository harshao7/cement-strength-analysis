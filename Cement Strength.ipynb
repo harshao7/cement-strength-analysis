{
 "cells": [
  {
   "cell_type": "markdown",
   "id": "bcdeea39",
   "metadata": {},
   "source": [
    "# Problem Statement\n",
    "* To build a regression model to predict the concrete compressive strength based on the different features in the training data. \n"
   ]
  },
  {
   "cell_type": "markdown",
   "id": "8c6f73d8",
   "metadata": {},
   "source": [
    "### Data Description\n",
    "#### Given is the variable name, variable type, the measurement unit and a brief description. The concrete compressive strength is the regression problem. The order of this listing corresponds to the order of numerals along the rows of the database.\n",
    "\n",
    "* Name -- Data Type -- Measurement -- Description\n",
    "\n",
    "* Cement (component 1) -- quantitative -- kg in a m3 mixture -- Input Variable\n",
    "\n",
    "* Blast Furnace Slag (component 2) -- quantitative -- kg in a m3 mixture -- Input Variable\n",
    "\n",
    "* Fly Ash (component 3) -- quantitative -- kg in a m3 mixture -- Input Variable\n",
    "\n",
    "* Water (component 4) -- quantitative -- kg in a m3 mixture -- Input Variable\n",
    "\n",
    "* Superplasticizer (component 5) -- quantitative -- kg in a m3 mixture -- Input Variable\n",
    "\n",
    "* Coarse Aggregate (component 6) -- quantitative -- kg in a m3 mixture -- Input Variable\n",
    "\n",
    "* Fine Aggregate (component 7) -- quantitative -- kg in a m3 mixture -- Input Variable\n",
    "\n",
    "* Age -- quantitative -- Day (1~365) -- Input Variable\n",
    "\n",
    "* Concrete compressive strength -- quantitative -- MPa -- Output Variable"
   ]
  },
  {
   "cell_type": "code",
   "execution_count": 1,
   "id": "c89cabd1",
   "metadata": {},
   "outputs": [],
   "source": [
    "import numpy as np\n",
    "import pandas as pd\n",
    "import matplotlib.pyplot as plt\n",
    "import seaborn as sns \n",
    "%matplotlib inline"
   ]
  },
  {
   "cell_type": "markdown",
   "id": "9174f0b1",
   "metadata": {},
   "source": [
    "# Data Collection"
   ]
  },
  {
   "cell_type": "code",
   "execution_count": 2,
   "id": "23040fe7",
   "metadata": {},
   "outputs": [],
   "source": [
    "cemdf = pd.read_csv('E:\\project\\cement strength analysis\\concrete.csv')"
   ]
  },
  {
   "cell_type": "code",
   "execution_count": 3,
   "id": "4117f360",
   "metadata": {},
   "outputs": [
    {
     "data": {
      "text/html": [
       "<div>\n",
       "<style scoped>\n",
       "    .dataframe tbody tr th:only-of-type {\n",
       "        vertical-align: middle;\n",
       "    }\n",
       "\n",
       "    .dataframe tbody tr th {\n",
       "        vertical-align: top;\n",
       "    }\n",
       "\n",
       "    .dataframe thead th {\n",
       "        text-align: right;\n",
       "    }\n",
       "</style>\n",
       "<table border=\"1\" class=\"dataframe\">\n",
       "  <thead>\n",
       "    <tr style=\"text-align: right;\">\n",
       "      <th></th>\n",
       "      <th>cement</th>\n",
       "      <th>slag</th>\n",
       "      <th>ash</th>\n",
       "      <th>water</th>\n",
       "      <th>superplastic</th>\n",
       "      <th>coarseagg</th>\n",
       "      <th>fineagg</th>\n",
       "      <th>age</th>\n",
       "      <th>strength</th>\n",
       "    </tr>\n",
       "  </thead>\n",
       "  <tbody>\n",
       "    <tr>\n",
       "      <th>0</th>\n",
       "      <td>141.3</td>\n",
       "      <td>212.0</td>\n",
       "      <td>0.0</td>\n",
       "      <td>203.5</td>\n",
       "      <td>0.0</td>\n",
       "      <td>971.8</td>\n",
       "      <td>748.5</td>\n",
       "      <td>28</td>\n",
       "      <td>29.89</td>\n",
       "    </tr>\n",
       "    <tr>\n",
       "      <th>1</th>\n",
       "      <td>168.9</td>\n",
       "      <td>42.2</td>\n",
       "      <td>124.3</td>\n",
       "      <td>158.3</td>\n",
       "      <td>10.8</td>\n",
       "      <td>1080.8</td>\n",
       "      <td>796.2</td>\n",
       "      <td>14</td>\n",
       "      <td>23.51</td>\n",
       "    </tr>\n",
       "    <tr>\n",
       "      <th>2</th>\n",
       "      <td>250.0</td>\n",
       "      <td>0.0</td>\n",
       "      <td>95.7</td>\n",
       "      <td>187.4</td>\n",
       "      <td>5.5</td>\n",
       "      <td>956.9</td>\n",
       "      <td>861.2</td>\n",
       "      <td>28</td>\n",
       "      <td>29.22</td>\n",
       "    </tr>\n",
       "    <tr>\n",
       "      <th>3</th>\n",
       "      <td>266.0</td>\n",
       "      <td>114.0</td>\n",
       "      <td>0.0</td>\n",
       "      <td>228.0</td>\n",
       "      <td>0.0</td>\n",
       "      <td>932.0</td>\n",
       "      <td>670.0</td>\n",
       "      <td>28</td>\n",
       "      <td>45.85</td>\n",
       "    </tr>\n",
       "    <tr>\n",
       "      <th>4</th>\n",
       "      <td>154.8</td>\n",
       "      <td>183.4</td>\n",
       "      <td>0.0</td>\n",
       "      <td>193.3</td>\n",
       "      <td>9.1</td>\n",
       "      <td>1047.4</td>\n",
       "      <td>696.7</td>\n",
       "      <td>28</td>\n",
       "      <td>18.29</td>\n",
       "    </tr>\n",
       "    <tr>\n",
       "      <th>...</th>\n",
       "      <td>...</td>\n",
       "      <td>...</td>\n",
       "      <td>...</td>\n",
       "      <td>...</td>\n",
       "      <td>...</td>\n",
       "      <td>...</td>\n",
       "      <td>...</td>\n",
       "      <td>...</td>\n",
       "      <td>...</td>\n",
       "    </tr>\n",
       "    <tr>\n",
       "      <th>1025</th>\n",
       "      <td>135.0</td>\n",
       "      <td>0.0</td>\n",
       "      <td>166.0</td>\n",
       "      <td>180.0</td>\n",
       "      <td>10.0</td>\n",
       "      <td>961.0</td>\n",
       "      <td>805.0</td>\n",
       "      <td>28</td>\n",
       "      <td>13.29</td>\n",
       "    </tr>\n",
       "    <tr>\n",
       "      <th>1026</th>\n",
       "      <td>531.3</td>\n",
       "      <td>0.0</td>\n",
       "      <td>0.0</td>\n",
       "      <td>141.8</td>\n",
       "      <td>28.2</td>\n",
       "      <td>852.1</td>\n",
       "      <td>893.7</td>\n",
       "      <td>3</td>\n",
       "      <td>41.30</td>\n",
       "    </tr>\n",
       "    <tr>\n",
       "      <th>1027</th>\n",
       "      <td>276.4</td>\n",
       "      <td>116.0</td>\n",
       "      <td>90.3</td>\n",
       "      <td>179.6</td>\n",
       "      <td>8.9</td>\n",
       "      <td>870.1</td>\n",
       "      <td>768.3</td>\n",
       "      <td>28</td>\n",
       "      <td>44.28</td>\n",
       "    </tr>\n",
       "    <tr>\n",
       "      <th>1028</th>\n",
       "      <td>342.0</td>\n",
       "      <td>38.0</td>\n",
       "      <td>0.0</td>\n",
       "      <td>228.0</td>\n",
       "      <td>0.0</td>\n",
       "      <td>932.0</td>\n",
       "      <td>670.0</td>\n",
       "      <td>270</td>\n",
       "      <td>55.06</td>\n",
       "    </tr>\n",
       "    <tr>\n",
       "      <th>1029</th>\n",
       "      <td>540.0</td>\n",
       "      <td>0.0</td>\n",
       "      <td>0.0</td>\n",
       "      <td>173.0</td>\n",
       "      <td>0.0</td>\n",
       "      <td>1125.0</td>\n",
       "      <td>613.0</td>\n",
       "      <td>7</td>\n",
       "      <td>52.61</td>\n",
       "    </tr>\n",
       "  </tbody>\n",
       "</table>\n",
       "<p>1030 rows × 9 columns</p>\n",
       "</div>"
      ],
      "text/plain": [
       "      cement   slag    ash  water  superplastic  coarseagg  fineagg  age  \\\n",
       "0      141.3  212.0    0.0  203.5           0.0      971.8    748.5   28   \n",
       "1      168.9   42.2  124.3  158.3          10.8     1080.8    796.2   14   \n",
       "2      250.0    0.0   95.7  187.4           5.5      956.9    861.2   28   \n",
       "3      266.0  114.0    0.0  228.0           0.0      932.0    670.0   28   \n",
       "4      154.8  183.4    0.0  193.3           9.1     1047.4    696.7   28   \n",
       "...      ...    ...    ...    ...           ...        ...      ...  ...   \n",
       "1025   135.0    0.0  166.0  180.0          10.0      961.0    805.0   28   \n",
       "1026   531.3    0.0    0.0  141.8          28.2      852.1    893.7    3   \n",
       "1027   276.4  116.0   90.3  179.6           8.9      870.1    768.3   28   \n",
       "1028   342.0   38.0    0.0  228.0           0.0      932.0    670.0  270   \n",
       "1029   540.0    0.0    0.0  173.0           0.0     1125.0    613.0    7   \n",
       "\n",
       "      strength  \n",
       "0        29.89  \n",
       "1        23.51  \n",
       "2        29.22  \n",
       "3        45.85  \n",
       "4        18.29  \n",
       "...        ...  \n",
       "1025     13.29  \n",
       "1026     41.30  \n",
       "1027     44.28  \n",
       "1028     55.06  \n",
       "1029     52.61  \n",
       "\n",
       "[1030 rows x 9 columns]"
      ]
     },
     "execution_count": 3,
     "metadata": {},
     "output_type": "execute_result"
    }
   ],
   "source": [
    "cemdf"
   ]
  },
  {
   "cell_type": "code",
   "execution_count": 4,
   "id": "630494f8",
   "metadata": {},
   "outputs": [
    {
     "name": "stdout",
     "output_type": "stream",
     "text": [
      "<class 'pandas.core.frame.DataFrame'>\n",
      "RangeIndex: 1030 entries, 0 to 1029\n",
      "Data columns (total 9 columns):\n",
      " #   Column        Non-Null Count  Dtype  \n",
      "---  ------        --------------  -----  \n",
      " 0   cement        1030 non-null   float64\n",
      " 1   slag          1030 non-null   float64\n",
      " 2   ash           1030 non-null   float64\n",
      " 3   water         1030 non-null   float64\n",
      " 4   superplastic  1030 non-null   float64\n",
      " 5   coarseagg     1030 non-null   float64\n",
      " 6   fineagg       1030 non-null   float64\n",
      " 7   age           1030 non-null   int64  \n",
      " 8   strength      1030 non-null   float64\n",
      "dtypes: float64(8), int64(1)\n",
      "memory usage: 72.5 KB\n"
     ]
    }
   ],
   "source": [
    "cemdf.info()"
   ]
  },
  {
   "cell_type": "code",
   "execution_count": 5,
   "id": "27f6f892",
   "metadata": {},
   "outputs": [
    {
     "data": {
      "text/plain": [
       "Index(['cement', 'slag', 'ash', 'water', 'superplastic', 'coarseagg',\n",
       "       'fineagg', 'age', 'strength'],\n",
       "      dtype='object')"
      ]
     },
     "execution_count": 5,
     "metadata": {},
     "output_type": "execute_result"
    }
   ],
   "source": [
    "cemdf.columns"
   ]
  },
  {
   "cell_type": "markdown",
   "id": "117995cd",
   "metadata": {},
   "source": [
    "# Data Cleaning"
   ]
  },
  {
   "cell_type": "code",
   "execution_count": 6,
   "id": "2f25ed9e",
   "metadata": {},
   "outputs": [
    {
     "data": {
      "text/plain": [
       "cement          0\n",
       "slag            0\n",
       "ash             0\n",
       "water           0\n",
       "superplastic    0\n",
       "coarseagg       0\n",
       "fineagg         0\n",
       "age             0\n",
       "strength        0\n",
       "dtype: int64"
      ]
     },
     "execution_count": 6,
     "metadata": {},
     "output_type": "execute_result"
    }
   ],
   "source": [
    "cemdf.isnull().sum()"
   ]
  },
  {
   "cell_type": "code",
   "execution_count": 7,
   "id": "0ee18e98",
   "metadata": {},
   "outputs": [
    {
     "data": {
      "text/plain": [
       "25"
      ]
     },
     "execution_count": 7,
     "metadata": {},
     "output_type": "execute_result"
    }
   ],
   "source": [
    "cemdf.duplicated().sum()"
   ]
  },
  {
   "cell_type": "code",
   "execution_count": 8,
   "id": "99466b8a",
   "metadata": {},
   "outputs": [],
   "source": [
    "cemdf['duplicates'] = cemdf.duplicated()"
   ]
  },
  {
   "cell_type": "code",
   "execution_count": 9,
   "id": "0b31f628",
   "metadata": {},
   "outputs": [],
   "source": [
    "cemdf.drop_duplicates(inplace=True)"
   ]
  },
  {
   "cell_type": "code",
   "execution_count": 10,
   "id": "fa34119f",
   "metadata": {},
   "outputs": [
    {
     "data": {
      "text/plain": [
       "(1016, 10)"
      ]
     },
     "execution_count": 10,
     "metadata": {},
     "output_type": "execute_result"
    }
   ],
   "source": [
    "cemdf.shape"
   ]
  },
  {
   "cell_type": "code",
   "execution_count": 11,
   "id": "f23db559",
   "metadata": {},
   "outputs": [
    {
     "data": {
      "image/png": "[encoded data removed]",
      "text/plain": [
       "<Figure size 1440x720 with 1 Axes>"
      ]
     },
     "metadata": {
      "needs_background": "light"
     },
     "output_type": "display_data"
    }
   ],
   "source": [
    "# Create a boxplot for all the continuous features\n",
    "cemdf.boxplot(column = ['cement', 'slag', 'ash', 'water', 'superplastic', 'coarseagg',\n",
    "       'fineagg', 'age', 'strength'], rot=45, figsize = (20,10));"
   ]
  },
  {
   "cell_type": "code",
   "execution_count": 12,
   "id": "0a802aec",
   "metadata": {},
   "outputs": [],
   "source": [
    "contineous = ['cement', 'slag', 'ash', 'water', 'superplastic', 'coarseagg','fineagg', 'age', 'strength']"
   ]
  },
  {
   "cell_type": "code",
   "execution_count": null,
   "id": "41c1f6c4",
   "metadata": {},
   "outputs": [
    {
     "name": "stdout",
     "output_type": "stream",
     "text": [
      "cement:\n"
     ]
    },
    {
     "data": {
      "image/png": "[encoded data removed]",
      "text/plain": [
       "<Figure size 864x576 with 1 Axes>"
      ]
     },
     "metadata": {
      "needs_background": "light"
     },
     "output_type": "display_data"
    },
    {
     "name": "stdout",
     "output_type": "stream",
     "text": [
      "left limit :-44.31249999999997\n",
      "right limit :584.9875\n",
      "iqr:157.325\n"
     ]
    }
   ],
   "source": [
    "for i in contineous:\n",
    "    print(i+ ':')\n",
    "    plt.figure(figsize=(12,8))\n",
    "    cemdf[i].plot.box(vert=False,patch_artist=True)\n",
    "    plt.xlabel(i)\n",
    "    plt.show()\n",
    "    \n",
    "    iqr = cemdf[i].describe()['75%'] - cemdf[i].describe()['25%']\n",
    "    right_lim=cemdf[i].quantile(0.75)+1.5*iqr\n",
    "    leftt_lim=cemdf[i].quantile(0.25)-1.5*iqr\n",
    "    print('left limit :{}'.format(leftt_lim))\n",
    "    print('right limit :{}'.format(right_lim))\n",
    "    print(\"iqr:{}\".format(iqr))\n",
    "    a = input(\"for left outlier type 'left': for right outlier type 'right': for both outlier type 'both': for no outlier type 'no'\")\n",
    "    a=a.lower()\n",
    "    if a=='left':\n",
    "        lo=float(input('enter the number you want to replace'))\n",
    "        cemdf[i]=[lo if val<leftt_lim else val for val in cemdf[i]]\n",
    "    elif a=='right':\n",
    "        ro=float(input('by what number do you want to replace'))\n",
    "        cemdf[i]=[ro if val>right_lim else val for val in cemdf[i]]\n",
    "    elif a=='both':\n",
    "        lo=float(input('by what number do you want to replace left outlier'))\n",
    "        ro=float(input('by what number do you want to replace right outlier'))\n",
    "        cemdf[i]=[ro if val>right_lim else val for val in cemdf[i]]\n",
    "        cemdf[i]=[lo if val<leftt_lim else val for val in cemdf[i]]\n",
    "    elif a=='no':\n",
    "        pass\n",
    "    plt.figure(figsize=(20,10))\n",
    "    cemdf[i].plot.box(vert=False,patch_artist=True)\n",
    "    plt.xlabel(i)\n",
    "    plt.show()"
   ]
  },
  {
   "cell_type": "code",
   "execution_count": null,
   "id": "f1c913dd",
   "metadata": {},
   "outputs": [],
   "source": [
    "cemdf.boxplot(column = ['cement', 'slag', 'ash', 'water', 'superplastic', 'coarseagg',\n",
    "       'fineagg', 'age', 'strength'], rot=45, figsize = (20,10));"
   ]
  },
  {
   "cell_type": "code",
   "execution_count": null,
   "id": "f119d752",
   "metadata": {},
   "outputs": [],
   "source": [
    "cemdf.describe()"
   ]
  },
  {
   "cell_type": "code",
   "execution_count": null,
   "id": "84fcebbc",
   "metadata": {},
   "outputs": [],
   "source": [
    "cemdf.describe().T"
   ]
  },
  {
   "cell_type": "markdown",
   "id": "98e1e3d6",
   "metadata": {},
   "source": [
    "### Data Cleaning Summary\n",
    "\n",
    "* We had 25 duplicate instances in dataset and dropped those duplicates.\n",
    "* We had outliers in 'Water', 'Superplastic', 'Fineagg', 'Age' and 'Strength' column also, handled these outliers by replacing every outlier with upper side of the whisker.\n",
    "* We had outliers in 'Water' column also, handled these outliers by replacing every outlier with lower side of the whisker.\n",
    "* No missing values in dataset."
   ]
  },
  {
   "cell_type": "code",
   "execution_count": null,
   "id": "7f444d46",
   "metadata": {},
   "outputs": [],
   "source": [
    "# cols = [i for i in cemdf.columns if i not in 'strength']\n",
    "# length = len(cols)\n",
    "# cs = [\"b\",\"r\",\"g\",\"c\",\"m\",\"k\",\"lime\",\"c\"]\n",
    "# fig = plt.figure(figsize=(13,25))\n",
    "\n",
    "# for i,j,k in itertools.zip_longest(cols,range(length),cs):\n",
    "#     plt.subplot(4,2,j+1)\n",
    "#     ax = sns.distplot(cemdf[i],color=k,rug=True)\n",
    "#     ax.set_facecolor(\"w\")\n",
    "#     plt.axvline(cemdf[i].mean(),linestyle=\"dashed\",label=\"mean\",color=\"k\")\n",
    "#     plt.legend(loc=\"best\")\n",
    "#     plt.title(i,color=\"navy\")\n",
    "#     plt.xlabel(\"\")"
   ]
  },
  {
   "cell_type": "code",
   "execution_count": null,
   "id": "c79c2b4f",
   "metadata": {},
   "outputs": [],
   "source": [
    "plt.figure(figsize=(15,15),facecolor='white')\n",
    "plotnumber = 1\n",
    "\n",
    "for column in cemdf.columns:\n",
    "    ax = plt.subplot(4,3,plotnumber)\n",
    "    sns.distplot(cemdf[column])\n",
    "    plt.xlabel(column,fontsize=10)\n",
    "    plotnumber+=1\n",
    "plt.show()"
   ]
  },
  {
   "cell_type": "code",
   "execution_count": null,
   "id": "5fbb4040",
   "metadata": {},
   "outputs": [],
   "source": [
    "X = cemdf.drop(['strength'],axis=1)\n",
    "y = cemdf['strength']\n",
    "\n",
    "import warnings\n",
    "warnings.simplefilter('ignore')"
   ]
  },
  {
   "cell_type": "code",
   "execution_count": null,
   "id": "feea0570",
   "metadata": {},
   "outputs": [],
   "source": [
    "# before doing the log transformation, \n",
    "#let's add 1 to each value in everycolumn so that we don't get exception while calculationg the log for value 0\n",
    "\n",
    "for column in X.columns:\n",
    "    X[column]+=1\n",
    "    X[column] = np.log(X[column])"
   ]
  },
  {
   "cell_type": "code",
   "execution_count": null,
   "id": "792bf448",
   "metadata": {},
   "outputs": [],
   "source": [
    "plt.figure(figsize=(15,15),facecolor='white')\n",
    "plotnumber = 1\n",
    "\n",
    "for column in X.columns:\n",
    "    ax = plt.subplot(4,3,plotnumber)\n",
    "    sns.distplot(X[column])\n",
    "    plt.xlabel(column,fontsize=10)\n",
    "    plotnumber+=1\n",
    "plt.show()"
   ]
  },
  {
   "cell_type": "code",
   "execution_count": null,
   "id": "563f0065",
   "metadata": {},
   "outputs": [],
   "source": [
    "# let's check how our features are related to the target column\n",
    "plt.figure(figsize=(20,20),facecolor='white')\n",
    "plotnumber = 1\n",
    "\n",
    "for column in X.columns:\n",
    "    ax = plt.subplot(4,3,plotnumber)\n",
    "    sns.scatterplot(X[column],y)\n",
    "    plt.xlabel(column,fontsize=10)\n",
    "    plotnumber+=1\n",
    "plt.show()"
   ]
  },
  {
   "cell_type": "code",
   "execution_count": null,
   "id": "c818c86f",
   "metadata": {},
   "outputs": [],
   "source": [
    "plt.figure(figsize=(8,8))\n",
    "sns.heatmap(X.corr().abs(), vmin = -0.5,vmax = 1,annot=True)"
   ]
  },
  {
   "cell_type": "code",
   "execution_count": null,
   "id": "d907e399",
   "metadata": {},
   "outputs": [],
   "source": [
    "from sklearn.model_selection import train_test_split\n",
    "from sklearn.preprocessing import StandardScaler\n",
    "scalar = StandardScaler()\n",
    "x_train,x_test,y_train,y_test = train_test_split(X,y,test_size=0.3, random_state=123)\n",
    "\n",
    "x_train = pd.DataFrame(scalar.fit_transform(x_train),columns = x_train.columns, index=x_train.index )\n",
    "x_test = pd.DataFrame(scalar.fit_transform(x_test),columns = x_test.columns, index=x_test.index)"
   ]
  },
  {
   "cell_type": "code",
   "execution_count": null,
   "id": "6714218b",
   "metadata": {},
   "outputs": [],
   "source": [
    "from sklearn.linear_model import SGDRegressor\n",
    "sgdr = SGDRegressor()"
   ]
  },
  {
   "cell_type": "code",
   "execution_count": null,
   "id": "6aa43a26",
   "metadata": {},
   "outputs": [],
   "source": [
    "cemdf"
   ]
  },
  {
   "cell_type": "code",
   "execution_count": null,
   "id": "1c03060c",
   "metadata": {},
   "outputs": [],
   "source": [
    "x_train"
   ]
  },
  {
   "cell_type": "code",
   "execution_count": null,
   "id": "32662a83",
   "metadata": {},
   "outputs": [],
   "source": [
    "x_test"
   ]
  },
  {
   "cell_type": "code",
   "execution_count": null,
   "id": "fb7e9051",
   "metadata": {},
   "outputs": [],
   "source": [
    "cemdf.columns"
   ]
  },
  {
   "cell_type": "code",
   "execution_count": null,
   "id": "da9248fb",
   "metadata": {},
   "outputs": [],
   "source": [
    "from statsmodels.stats.outliers_influence import variance_inflation_factor\n"
   ]
  },
  {
   "cell_type": "code",
   "execution_count": null,
   "id": "244a7f0e",
   "metadata": {},
   "outputs": [],
   "source": [
    "v = cemdf[['cement','slag','ash','water','superplastic','coarseagg','fineagg','age']]"
   ]
  },
  {
   "cell_type": "code",
   "execution_count": null,
   "id": "3e10014d",
   "metadata": {},
   "outputs": [],
   "source": [
    "vif_data = pd.DataFrame()"
   ]
  },
  {
   "cell_type": "code",
   "execution_count": null,
   "id": "f4d1ebc0",
   "metadata": {},
   "outputs": [],
   "source": [
    "vif_data['features'] = v.columns"
   ]
  },
  {
   "cell_type": "code",
   "execution_count": null,
   "id": "36e5e389",
   "metadata": {},
   "outputs": [],
   "source": [
    "vif_data['VIF'] = [variance_inflation_factor(v.values, i) for i in range(len(v.columns))]"
   ]
  },
  {
   "cell_type": "code",
   "execution_count": null,
   "id": "93ab3414",
   "metadata": {},
   "outputs": [],
   "source": [
    "vif_data"
   ]
  },
  {
   "cell_type": "code",
   "execution_count": null,
   "id": "51049225",
   "metadata": {},
   "outputs": [],
   "source": [
    "cemdf.drop(['cement','water','coarseagg','fineagg'],1,inplace=True)"
   ]
  },
  {
   "cell_type": "code",
   "execution_count": null,
   "id": "dc842963",
   "metadata": {},
   "outputs": [],
   "source": [
    "from sklearn.metrics import mean_squared_error\n",
    "from sklearn.linear_model import LinearRegression"
   ]
  },
  {
   "cell_type": "code",
   "execution_count": null,
   "id": "af1ce172",
   "metadata": {},
   "outputs": [],
   "source": [
    "sgdr.fit(X,y)"
   ]
  },
  {
   "cell_type": "code",
   "execution_count": null,
   "id": "60230bd3",
   "metadata": {},
   "outputs": [],
   "source": [
    "train_pred = sgdr.predict(x_train)"
   ]
  },
  {
   "cell_type": "code",
   "execution_count": null,
   "id": "8dd2ad28",
   "metadata": {},
   "outputs": [],
   "source": [
    "mse = mean_squared_error(train_pred,y_train)\n",
    "rmse = mse**(1/2)\n",
    "R_sqr = sgdr.score(x_train,y_train)\n",
    "print(mse)\n",
    "print(rmse)\n",
    "print(R_sqr)\n",
    "\n",
    "## before log transformation values\n",
    "# 2.971549658180061e+24\n",
    "# 1723818336768.7156\n",
    "# -1.0879988671380476e+22"
   ]
  },
  {
   "cell_type": "code",
   "execution_count": null,
   "id": "8bfb14fb",
   "metadata": {},
   "outputs": [],
   "source": [
    "from sklearn.tree import DecisionTreeRegressor\n",
    "dtr = DecisionTreeRegressor()"
   ]
  },
  {
   "cell_type": "code",
   "execution_count": null,
   "id": "6da2cc7c",
   "metadata": {},
   "outputs": [],
   "source": [
    "dtr.fit(x_train,y_train)"
   ]
  },
  {
   "cell_type": "code",
   "execution_count": null,
   "id": "fa2f3fba",
   "metadata": {},
   "outputs": [],
   "source": [
    "dt_train_pred = dtr.predict(x_train)"
   ]
  },
  {
   "cell_type": "code",
   "execution_count": null,
   "id": "1d08105a",
   "metadata": {},
   "outputs": [],
   "source": [
    "dtr.score(x_train,y_train)"
   ]
  },
  {
   "cell_type": "code",
   "execution_count": null,
   "id": "a4a81c5d",
   "metadata": {},
   "outputs": [],
   "source": [
    "test_pred= dtr.predict(x_test)"
   ]
  },
  {
   "cell_type": "code",
   "execution_count": null,
   "id": "d75334ef",
   "metadata": {},
   "outputs": [],
   "source": [
    "dtr.score(x_test,y_test)"
   ]
  },
  {
   "cell_type": "code",
   "execution_count": null,
   "id": "40ec437c",
   "metadata": {},
   "outputs": [],
   "source": [
    "depth = [1,2,3,4,5,6,7,8,9,10,11,12]\n",
    "mse_train, mse_test = [],[]"
   ]
  },
  {
   "cell_type": "code",
   "execution_count": null,
   "id": "bb524d0b",
   "metadata": {},
   "outputs": [],
   "source": [
    "for i in depth:\n",
    "    prdctr = DecisionTreeRegressor(max_depth= i)       \n",
    "    prdctr.fit(x_train, y_train)\n",
    "    y_train_pred=prdctr.predict(x_train)\n",
    "    y_test_pred=prdctr.predict(x_test)\n",
    "    \n",
    "    mse_train.append(mean_squared_error(y_train, y_train_pred))\n",
    "    mse_test.append(mean_squared_error(y_test, y_test_pred))"
   ]
  },
  {
   "cell_type": "code",
   "execution_count": null,
   "id": "67e8de1a",
   "metadata": {},
   "outputs": [],
   "source": [
    "sns.set()\n",
    "plt.figure(figsize = (12,7))\n",
    "sns.lineplot(y=mse_train, x = depth, label = 'Train_mse')\n",
    "sns.lineplot(y=mse_test, x = depth, label = 'Test_mse')\n",
    "plt.xticks(ticks=np.arange(1,12,1))\n",
    "plt.show()"
   ]
  },
  {
   "cell_type": "code",
   "execution_count": null,
   "id": "20fc48ce",
   "metadata": {},
   "outputs": [],
   "source": [
    "regr_test = DecisionTreeRegressor(max_depth=4)\n",
    "regr_test.fit(x_train, y_train)\n",
    "y_pred_test=regr_test.predict(x_test)"
   ]
  },
  {
   "cell_type": "code",
   "execution_count": null,
   "id": "80b15832",
   "metadata": {},
   "outputs": [],
   "source": [
    "regr_test.score(x_train,y_train)"
   ]
  },
  {
   "cell_type": "code",
   "execution_count": null,
   "id": "28097b7c",
   "metadata": {},
   "outputs": [],
   "source": [
    "regr_test.score(x_test,y_test)"
   ]
  },
  {
   "cell_type": "markdown",
   "id": "5494cd4c",
   "metadata": {},
   "source": [
    "# RandomForest "
   ]
  },
  {
   "cell_type": "code",
   "execution_count": null,
   "id": "03837390",
   "metadata": {},
   "outputs": [],
   "source": [
    "from sklearn.ensemble import RandomForestRegressor\n",
    "regressor = RandomForestRegressor(n_estimators = 100, random_state = 0)"
   ]
  },
  {
   "cell_type": "code",
   "execution_count": null,
   "id": "b2476ff9",
   "metadata": {},
   "outputs": [],
   "source": [
    "# fit the regressor with x and y data\n",
    "mod = regressor.fit(x_train, y_train)"
   ]
  },
  {
   "cell_type": "code",
   "execution_count": null,
   "id": "e2ef367e",
   "metadata": {},
   "outputs": [],
   "source": [
    "params = {'max_depth': [2,4,6,7,8]}"
   ]
  },
  {
   "cell_type": "code",
   "execution_count": null,
   "id": "5e373984",
   "metadata": {},
   "outputs": [],
   "source": [
    "from sklearn.model_selection import RandomizedSearchCV\n",
    "rgr = RandomizedSearchCV(regressor, params, n_iter=10, cv= 3)"
   ]
  },
  {
   "cell_type": "code",
   "execution_count": null,
   "id": "0d9e3475",
   "metadata": {},
   "outputs": [],
   "source": [
    "mod.score(x_train,y_train)"
   ]
  },
  {
   "cell_type": "code",
   "execution_count": null,
   "id": "4032cb4e",
   "metadata": {},
   "outputs": [],
   "source": [
    "y_pred = mod.predict(x_test)"
   ]
  },
  {
   "cell_type": "code",
   "execution_count": null,
   "id": "805110d4",
   "metadata": {},
   "outputs": [],
   "source": [
    "mod.score(x_test,y_test)"
   ]
  },
  {
   "cell_type": "code",
   "execution_count": null,
   "id": "27fbde5a",
   "metadata": {},
   "outputs": [],
   "source": [
    "mse = mean_squared_error(y_pred,y_test)\n",
    "mse"
   ]
  },
  {
   "cell_type": "code",
   "execution_count": null,
   "id": "f62f1755",
   "metadata": {},
   "outputs": [],
   "source": [
    "rmse = mse**(1/2)\n",
    "rmse"
   ]
  },
  {
   "cell_type": "code",
   "execution_count": null,
   "id": "8b0405fd",
   "metadata": {},
   "outputs": [],
   "source": [
    "y_pred_train = mod.predict(x_train)"
   ]
  },
  {
   "cell_type": "code",
   "execution_count": null,
   "id": "6a6182ef",
   "metadata": {},
   "outputs": [],
   "source": [
    "mseT = mean_squared_error(y_train, y_pred_train)\n",
    "mseT"
   ]
  },
  {
   "cell_type": "code",
   "execution_count": null,
   "id": "5968ce79",
   "metadata": {},
   "outputs": [],
   "source": [
    "rmseT = mseT**(1/2)\n",
    "rmseT"
   ]
  },
  {
   "cell_type": "code",
   "execution_count": null,
   "id": "a2aacbb5",
   "metadata": {},
   "outputs": [],
   "source": []
  }
 ],
 "metadata": {
  "kernelspec": {
   "display_name": "Python 3 (ipykernel)",
   "language": "python",
   "name": "python3"
  },
  "language_info": {
   "codemirror_mode": {
    "name": "ipython",
    "version": 3
   },
   "file_extension": ".py",
   "mimetype": "text/x-python",
   "name": "python",
   "nbconvert_exporter": "python",
   "pygments_lexer": "ipython3",
   "version": "3.9.12"
  }
 },
 "nbformat": 4,
 "nbformat_minor": 5
}
